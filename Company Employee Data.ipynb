{
 "cells": [
  {
   "cell_type": "markdown",
   "id": "320943bd",
   "metadata": {},
   "source": [
    "#### 1. Creating Variables:"
   ]
  },
  {
   "cell_type": "code",
   "execution_count": 1,
   "id": "ba2b55df",
   "metadata": {},
   "outputs": [],
   "source": [
    "country_name = \"Nigeria\"                #This is a string\n",
    "population = 213000000                  #This is an integer\n",
    "gdp_per_capita = 2065.5                 #this is a float\n",
    "is_in_africa = True                          #This is a boolean"
   ]
  },
  {
   "cell_type": "markdown",
   "id": "274d229f",
   "metadata": {},
   "source": [
    "#### 2. Creating a List:"
   ]
  },
  {
   "cell_type": "code",
   "execution_count": 2,
   "id": "3695350a",
   "metadata": {},
   "outputs": [
    {
     "name": "stdout",
     "output_type": "stream",
     "text": [
      "['Lagos', 'Abuja', 'Kano']\n"
     ]
    }
   ],
   "source": [
    "major_cities = [\"Lagos\", \"Abuja\", \"Kano\"]               #This is a List\n",
    "\n",
    "print(major_cities)                                                 #Printing Major cities"
   ]
  },
  {
   "cell_type": "code",
   "execution_count": 3,
   "id": "1b6cc2e7",
   "metadata": {},
   "outputs": [
    {
     "name": "stdout",
     "output_type": "stream",
     "text": [
      "['Lagos', 'Abuja', 'Kano', 'Ibadan']\n",
      "Updated City: Ibadan\n",
      "['Lagos', 'Abuja', 'Kano', 'Ibadan']\n"
     ]
    }
   ],
   "source": [
    "major_cities.append(\"Ibadan\")                  #Adding a string to the list\n",
    "\n",
    "print(major_cities)\n",
    "print(\"Updated City:\", major_cities[3])\n",
    "print(major_cities)"
   ]
  },
  {
   "cell_type": "markdown",
   "id": "0a4f6979",
   "metadata": {},
   "source": [
    "#### 3. Creating a Dictionary:"
   ]
  },
  {
   "cell_type": "code",
   "execution_count": 4,
   "id": "0900e06a",
   "metadata": {},
   "outputs": [],
   "source": [
    "#Populating the Dictionary\n",
    "\n",
    "country_profile = (\n",
    "    country_name,\n",
    "    population,\n",
    "    gdp_per_capita,\n",
    "    is_in_africa,\n",
    "    major_cities\n",
    ")"
   ]
  },
  {
   "cell_type": "code",
   "execution_count": 5,
   "id": "d9596815",
   "metadata": {},
   "outputs": [
    {
     "name": "stdout",
     "output_type": "stream",
     "text": [
      "The name of my country is: Nigeria\n",
      "Her current population is: 213000000\n",
      "Her current gdp per capita is: 2065.5\n",
      "My country is in Africa: True\n",
      "Her major cities are: ['Lagos', 'Abuja', 'Kano', 'Ibadan']\n"
     ]
    }
   ],
   "source": [
    "#Printing the data in the dictionary\n",
    "print (\"The name of my country is:\", country_profile[0])\n",
    "print (\"Her current population is:\", country_profile[1])\n",
    "print (\"Her current gdp per capita is:\", country_profile[2])\n",
    "print (\"My country is in Africa:\", country_profile[3])\n",
    "print (\"Her major cities are:\", country_profile[4])"
   ]
  },
  {
   "cell_type": "code",
   "execution_count": 6,
   "id": "cbfcc4a8",
   "metadata": {},
   "outputs": [],
   "source": [
    "country_profile = {\n",
    "    \"country_name\": country_name,\n",
    "    \"population\": population,\n",
    "    \"gdp_per_capita\": gdp_per_capita,\n",
    "    \"is_in_africa\": is_in_africa,\n",
    "    \"major_cities\": major_cities\n",
    "}"
   ]
  },
  {
   "cell_type": "code",
   "execution_count": 7,
   "id": "2cae7f3e",
   "metadata": {},
   "outputs": [
    {
     "name": "stdout",
     "output_type": "stream",
     "text": [
      "{'country_name': 'Nigeria', 'population': 213000000, 'gdp_per_capita': 2065.5, 'is_in_africa': True, 'major_cities': ['Lagos', 'Abuja', 'Kano', 'Ibadan']}\n"
     ]
    }
   ],
   "source": [
    "print (country_profile)"
   ]
  },
  {
   "cell_type": "code",
   "execution_count": 8,
   "id": "0e3769b1",
   "metadata": {},
   "outputs": [
    {
     "name": "stdout",
     "output_type": "stream",
     "text": [
      "Updated dictionary with it's Language: {'country_name': 'Nigeria', 'population': 213000000, 'gdp_per_capita': 2065.5, 'is_in_africa': True, 'major_cities': ['Lagos', 'Abuja', 'Kano', 'Ibadan'], 'official_Language': ['English']}\n"
     ]
    }
   ],
   "source": [
    "#Adding a new key-value pair to my dictionary\n",
    "country_profile[\"official_Language\"] = [\"English\"]\n",
    "\n",
    "print (\"Updated dictionary with it's Language:\", country_profile)"
   ]
  },
  {
   "cell_type": "code",
   "execution_count": 9,
   "id": "fa29fc12",
   "metadata": {},
   "outputs": [
    {
     "name": "stdout",
     "output_type": "stream",
     "text": [
      "213000000\n"
     ]
    }
   ],
   "source": [
    "print(country_profile[\"population\"])"
   ]
  },
  {
   "cell_type": "markdown",
   "id": "6b75ec58",
   "metadata": {},
   "source": [
    "\n",
    "\n",
    "### Part 2: Introduction to pandas & Basic Analysis"
   ]
  },
  {
   "cell_type": "markdown",
   "id": "603a95a5",
   "metadata": {},
   "source": [
    "#### 1. Creating a DataFrame:"
   ]
  },
  {
   "cell_type": "code",
   "execution_count": 10,
   "id": "6a983b73",
   "metadata": {},
   "outputs": [],
   "source": [
    "import pandas as pd                      #Importing pandas as a library"
   ]
  },
  {
   "cell_type": "markdown",
   "id": "6186b239",
   "metadata": {},
   "source": [
    "###### 1b. Creating a Python dictionary:"
   ]
  },
  {
   "cell_type": "code",
   "execution_count": 11,
   "id": "3cd0a49e",
   "metadata": {},
   "outputs": [],
   "source": [
    "#Setting up the data for the dictionary\n",
    "\n",
    "employee_data = {\n",
    "    \"EmployeeID\": [\"E01\", \"E02\", \"E03\", \"E04\", \"E05\"],\n",
    "    \"Department\": [\"HR\", \"Engineering\", \"Sales\", \"Engineering\", \"Sales\"],\n",
    "    \"Salary\": [70000, 95000, 82000, 110000, 78000],\n",
    "    \"Years_at_Company\": [5, 8, 4, 10, 3]\n",
    "}"
   ]
  },
  {
   "cell_type": "code",
   "execution_count": 12,
   "id": "c897c032",
   "metadata": {},
   "outputs": [],
   "source": [
    "#Creating the dataframe from the set up dictionary\n",
    "\n",
    "df = pd.DataFrame(employee_data)"
   ]
  },
  {
   "cell_type": "code",
   "execution_count": 13,
   "id": "3b38d156",
   "metadata": {},
   "outputs": [
    {
     "data": {
      "text/html": [
       "<div>\n",
       "<style scoped>\n",
       "    .dataframe tbody tr th:only-of-type {\n",
       "        vertical-align: middle;\n",
       "    }\n",
       "\n",
       "    .dataframe tbody tr th {\n",
       "        vertical-align: top;\n",
       "    }\n",
       "\n",
       "    .dataframe thead th {\n",
       "        text-align: right;\n",
       "    }\n",
       "</style>\n",
       "<table border=\"1\" class=\"dataframe\">\n",
       "  <thead>\n",
       "    <tr style=\"text-align: right;\">\n",
       "      <th></th>\n",
       "      <th>EmployeeID</th>\n",
       "      <th>Department</th>\n",
       "      <th>Salary</th>\n",
       "      <th>Years_at_Company</th>\n",
       "    </tr>\n",
       "  </thead>\n",
       "  <tbody>\n",
       "    <tr>\n",
       "      <th>0</th>\n",
       "      <td>E01</td>\n",
       "      <td>HR</td>\n",
       "      <td>70000</td>\n",
       "      <td>5</td>\n",
       "    </tr>\n",
       "    <tr>\n",
       "      <th>1</th>\n",
       "      <td>E02</td>\n",
       "      <td>Engineering</td>\n",
       "      <td>95000</td>\n",
       "      <td>8</td>\n",
       "    </tr>\n",
       "    <tr>\n",
       "      <th>2</th>\n",
       "      <td>E03</td>\n",
       "      <td>Sales</td>\n",
       "      <td>82000</td>\n",
       "      <td>4</td>\n",
       "    </tr>\n",
       "    <tr>\n",
       "      <th>3</th>\n",
       "      <td>E04</td>\n",
       "      <td>Engineering</td>\n",
       "      <td>110000</td>\n",
       "      <td>10</td>\n",
       "    </tr>\n",
       "    <tr>\n",
       "      <th>4</th>\n",
       "      <td>E05</td>\n",
       "      <td>Sales</td>\n",
       "      <td>78000</td>\n",
       "      <td>3</td>\n",
       "    </tr>\n",
       "  </tbody>\n",
       "</table>\n",
       "</div>"
      ],
      "text/plain": [
       "  EmployeeID   Department  Salary  Years_at_Company\n",
       "0        E01           HR   70000                 5\n",
       "1        E02  Engineering   95000                 8\n",
       "2        E03        Sales   82000                 4\n",
       "3        E04  Engineering  110000                10\n",
       "4        E05        Sales   78000                 3"
      ]
     },
     "execution_count": 13,
     "metadata": {},
     "output_type": "execute_result"
    }
   ],
   "source": [
    "#Displaying the dataframe in the notebook\n",
    "\n",
    "df"
   ]
  },
  {
   "cell_type": "markdown",
   "id": "e06dac51",
   "metadata": {},
   "source": [
    "##### 2. Inspecting the DataFrame:"
   ]
  },
  {
   "cell_type": "code",
   "execution_count": 14,
   "id": "02f0b73e",
   "metadata": {},
   "outputs": [
    {
     "data": {
      "text/plain": [
       "(5, 4)"
      ]
     },
     "execution_count": 14,
     "metadata": {},
     "output_type": "execute_result"
    }
   ],
   "source": [
    "#To confirm and check for data frame size\n",
    "\n",
    "df.shape"
   ]
  },
  {
   "cell_type": "code",
   "execution_count": 15,
   "id": "30f91a1c",
   "metadata": {},
   "outputs": [
    {
     "data": {
      "text/plain": [
       "Index(['EmployeeID', 'Department', 'Salary', 'Years_at_Company'], dtype='object')"
      ]
     },
     "execution_count": 15,
     "metadata": {},
     "output_type": "execute_result"
    }
   ],
   "source": [
    "#To check the data frame columns\n",
    "\n",
    "df.columns"
   ]
  },
  {
   "cell_type": "code",
   "execution_count": 16,
   "id": "be12ccd5",
   "metadata": {},
   "outputs": [
    {
     "name": "stdout",
     "output_type": "stream",
     "text": [
      "<class 'pandas.core.frame.DataFrame'>\n",
      "RangeIndex: 5 entries, 0 to 4\n",
      "Data columns (total 4 columns):\n",
      " #   Column            Non-Null Count  Dtype \n",
      "---  ------            --------------  ----- \n",
      " 0   EmployeeID        5 non-null      object\n",
      " 1   Department        5 non-null      object\n",
      " 2   Salary            5 non-null      int64 \n",
      " 3   Years_at_Company  5 non-null      int64 \n",
      "dtypes: int64(2), object(2)\n",
      "memory usage: 292.0+ bytes\n"
     ]
    }
   ],
   "source": [
    "#To check the data types of the dataframe columns\n",
    "\n",
    "df.info()"
   ]
  },
  {
   "cell_type": "markdown",
   "id": "3bf0bcfd",
   "metadata": {},
   "source": [
    "#### 3. Performing Statistical Analysis:"
   ]
  },
  {
   "cell_type": "code",
   "execution_count": 17,
   "id": "0ac89e3d",
   "metadata": {},
   "outputs": [
    {
     "name": "stdout",
     "output_type": "stream",
     "text": [
      "STATISCTICAL SUMMARY\n"
     ]
    },
    {
     "data": {
      "text/html": [
       "<div>\n",
       "<style scoped>\n",
       "    .dataframe tbody tr th:only-of-type {\n",
       "        vertical-align: middle;\n",
       "    }\n",
       "\n",
       "    .dataframe tbody tr th {\n",
       "        vertical-align: top;\n",
       "    }\n",
       "\n",
       "    .dataframe thead th {\n",
       "        text-align: right;\n",
       "    }\n",
       "</style>\n",
       "<table border=\"1\" class=\"dataframe\">\n",
       "  <thead>\n",
       "    <tr style=\"text-align: right;\">\n",
       "      <th></th>\n",
       "      <th>Salary</th>\n",
       "      <th>Years_at_Company</th>\n",
       "    </tr>\n",
       "  </thead>\n",
       "  <tbody>\n",
       "    <tr>\n",
       "      <th>count</th>\n",
       "      <td>5.000000</td>\n",
       "      <td>5.000000</td>\n",
       "    </tr>\n",
       "    <tr>\n",
       "      <th>mean</th>\n",
       "      <td>87000.000000</td>\n",
       "      <td>6.000000</td>\n",
       "    </tr>\n",
       "    <tr>\n",
       "      <th>std</th>\n",
       "      <td>15716.233646</td>\n",
       "      <td>2.915476</td>\n",
       "    </tr>\n",
       "    <tr>\n",
       "      <th>min</th>\n",
       "      <td>70000.000000</td>\n",
       "      <td>3.000000</td>\n",
       "    </tr>\n",
       "    <tr>\n",
       "      <th>25%</th>\n",
       "      <td>78000.000000</td>\n",
       "      <td>4.000000</td>\n",
       "    </tr>\n",
       "    <tr>\n",
       "      <th>50%</th>\n",
       "      <td>82000.000000</td>\n",
       "      <td>5.000000</td>\n",
       "    </tr>\n",
       "    <tr>\n",
       "      <th>75%</th>\n",
       "      <td>95000.000000</td>\n",
       "      <td>8.000000</td>\n",
       "    </tr>\n",
       "    <tr>\n",
       "      <th>max</th>\n",
       "      <td>110000.000000</td>\n",
       "      <td>10.000000</td>\n",
       "    </tr>\n",
       "  </tbody>\n",
       "</table>\n",
       "</div>"
      ],
      "text/plain": [
       "              Salary  Years_at_Company\n",
       "count       5.000000          5.000000\n",
       "mean    87000.000000          6.000000\n",
       "std     15716.233646          2.915476\n",
       "min     70000.000000          3.000000\n",
       "25%     78000.000000          4.000000\n",
       "50%     82000.000000          5.000000\n",
       "75%     95000.000000          8.000000\n",
       "max    110000.000000         10.000000"
      ]
     },
     "execution_count": 17,
     "metadata": {},
     "output_type": "execute_result"
    }
   ],
   "source": [
    "#Implementing the .describe() function for a summary\n",
    "\n",
    "print(\"STATISCTICAL SUMMARY\")\n",
    "df.describe()"
   ]
  },
  {
   "cell_type": "code",
   "execution_count": 18,
   "id": "85247ef1",
   "metadata": {},
   "outputs": [],
   "source": [
    "#Now Calculating basic mean and median statistics using their respective functions\n",
    "\n",
    "mean_salary = df[\"Salary\"].mean()"
   ]
  },
  {
   "cell_type": "code",
   "execution_count": 19,
   "id": "4b8eec4c",
   "metadata": {},
   "outputs": [],
   "source": [
    "median_year_at_company = df[\"Years_at_Company\"].median()"
   ]
  },
  {
   "cell_type": "code",
   "execution_count": 20,
   "id": "68ff8dfd",
   "metadata": {},
   "outputs": [
    {
     "name": "stdout",
     "output_type": "stream",
     "text": [
      "The mean Salary is:\n",
      " 87000.0\n",
      "\n",
      "The median number of years at Company is:\n",
      " 5.0\n"
     ]
    }
   ],
   "source": [
    "#Printing out the mean of salary and median of years of work\n",
    "\n",
    "print(\"The mean Salary is:\\n\", mean_salary)\n",
    "print(\"\\nThe median number of years at Company is:\\n\", median_year_at_company)"
   ]
  },
  {
   "cell_type": "markdown",
   "id": "3cece9dc",
   "metadata": {},
   "source": [
    "## Part 3. Bridging with Excel"
   ]
  },
  {
   "cell_type": "code",
   "execution_count": 21,
   "id": "d70b634a",
   "metadata": {},
   "outputs": [],
   "source": [
    "excelFile = \"company_employee_data.xlsx\"  #Name of the excel file to be created"
   ]
  },
  {
   "cell_type": "code",
   "execution_count": 22,
   "id": "0ba76761",
   "metadata": {},
   "outputs": [],
   "source": [
    "index = False\n",
    "df.to_excel(excelFile, index=False)  #Saving the dataframe to an excel file"
   ]
  },
  {
   "cell_type": "code",
   "execution_count": 23,
   "id": "673132b4",
   "metadata": {},
   "outputs": [
    {
     "name": "stdout",
     "output_type": "stream",
     "text": [
      "DATA FROM EXCEL FILE\n"
     ]
    },
    {
     "data": {
      "text/html": [
       "<div>\n",
       "<style scoped>\n",
       "    .dataframe tbody tr th:only-of-type {\n",
       "        vertical-align: middle;\n",
       "    }\n",
       "\n",
       "    .dataframe tbody tr th {\n",
       "        vertical-align: top;\n",
       "    }\n",
       "\n",
       "    .dataframe thead th {\n",
       "        text-align: right;\n",
       "    }\n",
       "</style>\n",
       "<table border=\"1\" class=\"dataframe\">\n",
       "  <thead>\n",
       "    <tr style=\"text-align: right;\">\n",
       "      <th></th>\n",
       "      <th>EmployeeID</th>\n",
       "      <th>Department</th>\n",
       "      <th>Salary</th>\n",
       "      <th>Years_at_Company</th>\n",
       "    </tr>\n",
       "  </thead>\n",
       "  <tbody>\n",
       "    <tr>\n",
       "      <th>0</th>\n",
       "      <td>E01</td>\n",
       "      <td>HR</td>\n",
       "      <td>70000</td>\n",
       "      <td>5</td>\n",
       "    </tr>\n",
       "    <tr>\n",
       "      <th>1</th>\n",
       "      <td>E02</td>\n",
       "      <td>Engineering</td>\n",
       "      <td>95000</td>\n",
       "      <td>8</td>\n",
       "    </tr>\n",
       "    <tr>\n",
       "      <th>2</th>\n",
       "      <td>E03</td>\n",
       "      <td>Sales</td>\n",
       "      <td>82000</td>\n",
       "      <td>4</td>\n",
       "    </tr>\n",
       "    <tr>\n",
       "      <th>3</th>\n",
       "      <td>E04</td>\n",
       "      <td>Engineering</td>\n",
       "      <td>110000</td>\n",
       "      <td>10</td>\n",
       "    </tr>\n",
       "    <tr>\n",
       "      <th>4</th>\n",
       "      <td>E05</td>\n",
       "      <td>Sales</td>\n",
       "      <td>78000</td>\n",
       "      <td>3</td>\n",
       "    </tr>\n",
       "  </tbody>\n",
       "</table>\n",
       "</div>"
      ],
      "text/plain": [
       "  EmployeeID   Department  Salary  Years_at_Company\n",
       "0        E01           HR   70000                 5\n",
       "1        E02  Engineering   95000                 8\n",
       "2        E03        Sales   82000                 4\n",
       "3        E04  Engineering  110000                10\n",
       "4        E05        Sales   78000                 3"
      ]
     },
     "execution_count": 23,
     "metadata": {},
     "output_type": "execute_result"
    }
   ],
   "source": [
    "# Load data from the new Excel file\n",
    "df_from_excel = pd.read_excel(excelFile)\n",
    "print(\"DATA FROM EXCEL FILE\")\n",
    "\n",
    "# Displaythe new DataFrame\n",
    "df_from_excel"
   ]
  },
  {
   "cell_type": "code",
   "execution_count": 24,
   "id": "ce9b1f15",
   "metadata": {},
   "outputs": [
    {
     "name": "stdout",
     "output_type": "stream",
     "text": [
      "Employee Data saved to and loaded from the company_employee_data.xlsx successfully.\n"
     ]
    }
   ],
   "source": [
    "print(\"Employee Data saved to and loaded from the company_employee_data.xlsx successfully.\")"
   ]
  },
  {
   "cell_type": "markdown",
   "id": "b591941d",
   "metadata": {},
   "source": [
    "### The END!"
   ]
  }
 ],
 "metadata": {
  "kernelspec": {
   "display_name": "base",
   "language": "python",
   "name": "python3"
  },
  "language_info": {
   "codemirror_mode": {
    "name": "ipython",
    "version": 3
   },
   "file_extension": ".py",
   "mimetype": "text/x-python",
   "name": "python",
   "nbconvert_exporter": "python",
   "pygments_lexer": "ipython3",
   "version": "3.12.7"
  }
 },
 "nbformat": 4,
 "nbformat_minor": 5
}
